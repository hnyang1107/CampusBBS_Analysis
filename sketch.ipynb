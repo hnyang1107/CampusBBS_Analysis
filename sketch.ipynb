{
 "cells": [
  {
   "cell_type": "code",
   "execution_count": 36,
   "metadata": {},
   "outputs": [],
   "source": [
    "%reset -f"
   ]
  },
  {
   "cell_type": "code",
   "execution_count": null,
   "metadata": {},
   "outputs": [],
   "source": [
    "                \n",
    "#                 df = df[df.post_id != 'Anonymous'].copy() # 删掉'Anonymous'\n",
    "#                 df = df[df.reply_id != 'Anonymous'].copy() # 删掉'Anonymous'\n",
    "#                 df = df.dropna(subset=['reply_id']).copy()  # 删除没有回复的孤立点(删掉一些没有回复的帖子)\n",
    "#                 df = df[df.post_id != df.reply_id] # 删掉自己回复自己的\n",
    "#                 df.sort_index(inplace=True)\n",
    "#                 self.df  = df.loc['2000':'2017'] # 切分 2000 年到 2017 年数据\n",
    "\n",
    "#             if campus_name == 'FDU': # TODO\n",
    "#                 pass\n",
    "#             if campus_name == 'SHU': # TODO\n",
    "#                 pass\n",
    "#             if campus_name == 'RUC': # TODO\n",
    "#                 pass"
   ]
  },
  {
   "cell_type": "code",
   "execution_count": 1,
   "metadata": {},
   "outputs": [],
   "source": [
    "import networkx as nx"
   ]
  },
  {
   "cell_type": "code",
   "execution_count": 1,
   "metadata": {},
   "outputs": [],
   "source": [
    "from bokeh.plotting import figure, output_file, show\n",
    "output_file(\"test.html\")\n",
    "p = figure()\n",
    "p.line([1, 2, 3, 4, 5], [6, 7, 2, 4, 5], line_width=2)\n",
    "show(p)"
   ]
  },
  {
   "cell_type": "code",
   "execution_count": null,
   "metadata": {},
   "outputs": [],
   "source": []
  }
 ],
 "metadata": {
  "kernelspec": {
   "display_name": "Python 3",
   "language": "python",
   "name": "python3"
  },
  "language_info": {
   "codemirror_mode": {
    "name": "ipython",
    "version": 3
   },
   "file_extension": ".py",
   "mimetype": "text/x-python",
   "name": "python",
   "nbconvert_exporter": "python",
   "pygments_lexer": "ipython3",
   "version": "3.7.0"
  }
 },
 "nbformat": 4,
 "nbformat_minor": 2
}

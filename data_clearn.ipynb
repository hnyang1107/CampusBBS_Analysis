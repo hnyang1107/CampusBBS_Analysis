{
 "cells": [
  {
   "cell_type": "markdown",
   "metadata": {
    "toc-hr-collapsed": false
   },
   "source": [
    "# 数据导入与清洗"
   ]
  },
  {
   "cell_type": "code",
   "execution_count": 28,
   "metadata": {},
   "outputs": [],
   "source": [
    "import pandas as pd\n",
    "import numpy as np\n",
    "import matplotlib\n",
    "import matplotlib.pyplot as plt\n",
    "%matplotlib inline\n",
    "%config InlineBackend.figure_format = 'svg' # 矢量图"
   ]
  },
  {
   "cell_type": "code",
   "execution_count": 80,
   "metadata": {},
   "outputs": [
    {
     "name": "stdout",
     "output_type": "stream",
     "text": [
      "Writing apeendCSV.py\n"
     ]
    }
   ],
   "source": [
    "# 将抓取到的多个 CSV 文件合并成一个 csv 表\n",
    "%%writefile apeendCSV.py\n",
    "def append_df(campus_name):\n",
    "    \"\"\"将多个 csv 文件整合成一个 csv 文件，读取并返回 Pandas.DataFrame\n",
    "    \n",
    "    Arg:\n",
    "        campus_name: 高校名称英文缩写（大小写均可）\n",
    "    Return:\n",
    "        包含合并后的全部信息的 Pandas.DataFrame.\n",
    "    \"\"\"\n",
    "    import glob\n",
    "\n",
    "    df = pd.DataFrame()\n",
    "    for path in glob.glob('./uncleaned_data/data_'+str.lower(campus_name)+'/*.csv'):\n",
    "        df = df.append(pd.read_csv(path, index_col='post_time', parse_dates=['post_time'], infer_datetime_format=True))\n",
    "    df.to_csv('./uncleaned_data/data_'+str.lower(campus_name)+'/data_' + campus_name +'.csv',header=True,index=True)\n",
    "    "
   ]
  },
  {
   "cell_type": "code",
   "execution_count": 102,
   "metadata": {},
   "outputs": [],
   "source": [
    "datasets_path = './csv'\n",
    "# _df_shu = pd.read_csv('./')\n",
    "# del _df_shu\n",
    "# df_shu = pd.read_csv(datasets_path + '/' + 'data_shu_raw.csv', index_col='post_time', parse_dates=['post_time'], infer_datetime_format=True)\n",
    "# df_ruc = pd.read_csv(\"./csv/data_ruc.csv\")\n",
    "#  df_fdu = pd.read_csv(\"./csv/data_fdu.csv\")\n",
    "\n"
   ]
  },
  {
   "cell_type": "markdown",
   "metadata": {
    "toc-hr-collapsed": true
   },
   "source": [
    "## 1.1 SHU 数据处理"
   ]
  },
  {
   "cell_type": "code",
   "execution_count": 103,
   "metadata": {},
   "outputs": [
    {
     "name": "stdout",
     "output_type": "stream",
     "text": [
      ",ID,Group,Articles,Prestige,Institute,Reply_Time,Content,Post_ID,Post_Title,Post_Time,Post_Position,Post_Number,Reply_Year,Reply_Month\n"
     ]
    }
   ],
   "source": [
    "!head -1 ./uncleaned_data/data_shu/Data_SHU.csv"
   ]
  },
  {
   "cell_type": "markdown",
   "metadata": {},
   "source": [
    "从 `./uncleaned_data/data_shu/` 文件下导入数据，`./uncleaned_data` 存储了未清洗的数据，主要分为一下几步：\n",
    "\n",
    "1. 由原始 `Reply_Time` 为索引导入数据，并格式化时序索引\n",
    "2. 舍弃不需要的列，重命名列名\n",
    "3. 删除 `post_id` 和 `thread_owner` 缺失的数据\n",
    "4. 对发帖内容通过正则表达式检索找到所回复的对象 `target`，若无匹配，则默认回复给 `theard_owner`\n",
    "5. 通过帖子标题和帖子发帖时间映射 `thread_uid`\n",
    "5. 保存文件到 `./csv/data_shu_raw.csv` 下完成数据预处理\n",
    "    "
   ]
  },
  {
   "cell_type": "code",
   "execution_count": 104,
   "metadata": {},
   "outputs": [],
   "source": [
    "# 数据清洗与筛选\n",
    "\n",
    "df_shu = pd.read_csv('./uncleaned_data/data_shu/Data_SHU.csv', index_col='Reply_Time', parse_dates=['Reply_Time'], infer_datetime_format=True)\n",
    "\n",
    "df_shu.drop('Unnamed: 0',axis=1, inplace=True)\n",
    "\n",
    "df_shu.index.name='post_time'\n",
    "\n",
    "df_shu.drop(columns=['Articles','Prestige','Post_Number','Reply_Year','Reply_Month'],inplace=True)\n",
    "\n",
    "df_shu.rename(columns={'ID':'post_id','Content':'content','Institute':'institution','Group':'group','Post_ID':'thread_owner','Post_Title':'thread_title','Post_Position':'board_name_cn','Post_Time':'thread_time'},inplace=True)\n",
    "\n",
    "df_shu.dropna(axis=0,how='any',subset=['post_id','thread_owner'],inplace=True)\n"
   ]
  },
  {
   "cell_type": "code",
   "execution_count": 105,
   "metadata": {},
   "outputs": [],
   "source": [
    "# 匹配回复对象 target\n",
    "\n",
    "import re\n",
    "_pat1 =  re.compile('以下是引用(.*?)在(?!0000)[0-9]{4}')\n",
    "_pat2 = re.compile('引用:\\( (.*?) @')\n",
    "_pat3 = re.compile('引用 (.*?) 发表于')\n",
    "\n",
    "# 测试\n",
    "# str1 = '以下是引用masheng在2006-12-6'\n",
    "# str2 = '引用:( mazecome @ 2007-01-31 08:32 查看原帖 )强烈建'\n",
    "# str3 = '引用 №寶貝★兲使 发表于 2009/1/23 11:52:53 的话：大家都是女生阿，忽'\n",
    "\n",
    "\n",
    "def find_target(x):\n",
    "    s = str(x['content'])\n",
    "    if re.search(_pat1, s):\n",
    "        return re.search(_pat1, x['content']).group(1)\n",
    "    if re.search(_pat2, s):\n",
    "        return re.search(_pat2, x['content']).group(1)\n",
    "    if re.search(_pat3, s):\n",
    "        return re.search(_pat3, x['content']).group(1)\n",
    "    else:\n",
    "        return x['thread_owner']\n",
    "\n",
    "df_shu['target'] = df_shu.apply(find_target, axis=1)# 匹配\n"
   ]
  },
  {
   "cell_type": "code",
   "execution_count": 106,
   "metadata": {},
   "outputs": [],
   "source": [
    "# 映射 thread_uid\n",
    "df_shu['thread_uid'] = df_shu.thread_time + df_shu.thread_title"
   ]
  },
  {
   "cell_type": "code",
   "execution_count": 107,
   "metadata": {},
   "outputs": [
    {
     "data": {
      "text/html": [
       "<div>\n",
       "<style scoped>\n",
       "    .dataframe tbody tr th:only-of-type {\n",
       "        vertical-align: middle;\n",
       "    }\n",
       "\n",
       "    .dataframe tbody tr th {\n",
       "        vertical-align: top;\n",
       "    }\n",
       "\n",
       "    .dataframe thead th {\n",
       "        text-align: right;\n",
       "    }\n",
       "</style>\n",
       "<table border=\"1\" class=\"dataframe\">\n",
       "  <thead>\n",
       "    <tr style=\"text-align: right;\">\n",
       "      <th></th>\n",
       "      <th>post_id</th>\n",
       "      <th>group</th>\n",
       "      <th>institution</th>\n",
       "      <th>content</th>\n",
       "      <th>thread_owner</th>\n",
       "      <th>thread_title</th>\n",
       "      <th>thread_time</th>\n",
       "      <th>board_name_cn</th>\n",
       "      <th>target</th>\n",
       "      <th>thread_uid</th>\n",
       "    </tr>\n",
       "    <tr>\n",
       "      <th>post_time</th>\n",
       "      <th></th>\n",
       "      <th></th>\n",
       "      <th></th>\n",
       "      <th></th>\n",
       "      <th></th>\n",
       "      <th></th>\n",
       "      <th></th>\n",
       "      <th></th>\n",
       "      <th></th>\n",
       "      <th></th>\n",
       "    </tr>\n",
       "  </thead>\n",
       "  <tbody>\n",
       "    <tr>\n",
       "      <th>2011-05-17 00:08:11</th>\n",
       "      <td>梅杨杨</td>\n",
       "      <td>校友用户</td>\n",
       "      <td>机电工程与自动化学院</td>\n",
       "      <td>10修是宝宝攻修~~~点修太费钱·~况且还要弄好多东西！帮战装备又不是多好的装备！每个帮有一...</td>\n",
       "      <td>恋上狼的兔子</td>\n",
       "      <td>[公告]梦幻西游online</td>\n",
       "      <td>2006-04-26 15:33:00</td>\n",
       "      <td>游戏天地</td>\n",
       "      <td>恋上狼的兔子</td>\n",
       "      <td>2006-04-26 15:33:00[公告]梦幻西游online</td>\n",
       "    </tr>\n",
       "    <tr>\n",
       "      <th>2011-05-29 18:24:44</th>\n",
       "      <td>stephylss</td>\n",
       "      <td>校友用户</td>\n",
       "      <td>影视艺术技术学院</td>\n",
       "      <td>额</td>\n",
       "      <td>上大魂</td>\n",
       "      <td>先上传一个马政经的试卷试试</td>\n",
       "      <td>2006-05-11 15:29:00</td>\n",
       "      <td>上课这点事 选课</td>\n",
       "      <td>上大魂</td>\n",
       "      <td>2006-05-11 15:29:00先上传一个马政经的试卷试试</td>\n",
       "    </tr>\n",
       "    <tr>\n",
       "      <th>2011-05-20 22:46:18</th>\n",
       "      <td>M.Schumacher</td>\n",
       "      <td>校友用户</td>\n",
       "      <td>Mercedes AMG Petronas</td>\n",
       "      <td>NaN</td>\n",
       "      <td>FerrariLege</td>\n",
       "      <td>【分享】美丽的上大～上大＝动物园＋植物园～</td>\n",
       "      <td>2006-05-17 12:21:00</td>\n",
       "      <td>伟长湖畔 灌水</td>\n",
       "      <td>FerrariLege</td>\n",
       "      <td>2006-05-17 12:21:00【分享】美丽的上大～上大＝动物园＋植物园～</td>\n",
       "    </tr>\n",
       "  </tbody>\n",
       "</table>\n",
       "</div>"
      ],
      "text/plain": [
       "                          post_id group             institution  \\\n",
       "post_time                                                         \n",
       "2011-05-17 00:08:11           梅杨杨  校友用户              机电工程与自动化学院   \n",
       "2011-05-29 18:24:44     stephylss  校友用户                影视艺术技术学院   \n",
       "2011-05-20 22:46:18  M.Schumacher  校友用户  Mercedes AMG Petronas    \n",
       "\n",
       "                                                               content  \\\n",
       "post_time                                                                \n",
       "2011-05-17 00:08:11  10修是宝宝攻修~~~点修太费钱·~况且还要弄好多东西！帮战装备又不是多好的装备！每个帮有一...   \n",
       "2011-05-29 18:24:44                                                  额   \n",
       "2011-05-20 22:46:18                                                NaN   \n",
       "\n",
       "                    thread_owner           thread_title          thread_time  \\\n",
       "post_time                                                                      \n",
       "2011-05-17 00:08:11       恋上狼的兔子         [公告]梦幻西游online  2006-04-26 15:33:00   \n",
       "2011-05-29 18:24:44          上大魂          先上传一个马政经的试卷试试  2006-05-11 15:29:00   \n",
       "2011-05-20 22:46:18  FerrariLege  【分享】美丽的上大～上大＝动物园＋植物园～  2006-05-17 12:21:00   \n",
       "\n",
       "                    board_name_cn       target  \\\n",
       "post_time                                        \n",
       "2011-05-17 00:08:11          游戏天地       恋上狼的兔子   \n",
       "2011-05-29 18:24:44      上课这点事 选课          上大魂   \n",
       "2011-05-20 22:46:18       伟长湖畔 灌水  FerrariLege   \n",
       "\n",
       "                                                   thread_uid  \n",
       "post_time                                                      \n",
       "2011-05-17 00:08:11         2006-04-26 15:33:00[公告]梦幻西游online  \n",
       "2011-05-29 18:24:44          2006-05-11 15:29:00先上传一个马政经的试卷试试  \n",
       "2011-05-20 22:46:18  2006-05-17 12:21:00【分享】美丽的上大～上大＝动物园＋植物园～  "
      ]
     },
     "execution_count": 107,
     "metadata": {},
     "output_type": "execute_result"
    }
   ],
   "source": [
    "# 检查数据\n",
    "df_shu.head(3)"
   ]
  },
  {
   "cell_type": "code",
   "execution_count": 108,
   "metadata": {},
   "outputs": [],
   "source": [
    "# 数据保存到./csv/data_shu_raw.csv ./hdf/data_shu_raw.csv\n",
    "df_shu.to_csv('./csv/data_shu.csv', header=True, index=True)\n",
    "df_shu.to_pickle('./pickle/data_shu.pkl')"
   ]
  },
  {
   "cell_type": "markdown",
   "metadata": {
    "toc-hr-collapsed": true
   },
   "source": [
    "## 1.2 RUC 数据处理"
   ]
  },
  {
   "cell_type": "code",
   "execution_count": 85,
   "metadata": {},
   "outputs": [
    {
     "name": "stdout",
     "output_type": "stream",
     "text": [
      "post_time,post_id,board_name_cn,post_title,reply_id,url,target\n"
     ]
    }
   ],
   "source": [
    "!head -1 ./uncleaned_data/data_ruc/data_ruc.csv"
   ]
  },
  {
   "cell_type": "code",
   "execution_count": 110,
   "metadata": {},
   "outputs": [],
   "source": [
    "df_ruc = pd.read_csv('./uncleaned_data/data_ruc/data_ruc.csv', index_col='post_time', parse_dates=['post_time'], infer_datetime_format=True)\n",
    "\n",
    "df_ruc.rename(columns={'url':'thread_uid','board_name_cn':'board_name_en'},inplace=True)\n",
    "\n",
    "df_ruc.dropna(subset=['post_id'], inplace=True)\n",
    "\n"
   ]
  },
  {
   "cell_type": "code",
   "execution_count": 111,
   "metadata": {},
   "outputs": [
    {
     "data": {
      "text/html": [
       "<div>\n",
       "<style scoped>\n",
       "    .dataframe tbody tr th:only-of-type {\n",
       "        vertical-align: middle;\n",
       "    }\n",
       "\n",
       "    .dataframe tbody tr th {\n",
       "        vertical-align: top;\n",
       "    }\n",
       "\n",
       "    .dataframe thead th {\n",
       "        text-align: right;\n",
       "    }\n",
       "</style>\n",
       "<table border=\"1\" class=\"dataframe\">\n",
       "  <thead>\n",
       "    <tr style=\"text-align: right;\">\n",
       "      <th></th>\n",
       "      <th>post_id</th>\n",
       "      <th>board_name_en</th>\n",
       "      <th>post_title</th>\n",
       "      <th>reply_id</th>\n",
       "      <th>thread_uid</th>\n",
       "      <th>target</th>\n",
       "    </tr>\n",
       "    <tr>\n",
       "      <th>post_time</th>\n",
       "      <th></th>\n",
       "      <th></th>\n",
       "      <th></th>\n",
       "      <th></th>\n",
       "      <th></th>\n",
       "      <th></th>\n",
       "    </tr>\n",
       "  </thead>\n",
       "  <tbody>\n",
       "    <tr>\n",
       "      <th>2011-09-02 09:18:26</th>\n",
       "      <td>TrueLies</td>\n",
       "      <td>Apple</td>\n",
       "      <td>从三家资费对比看北京联通秋季校园竞争力</td>\n",
       "      <td>None</td>\n",
       "      <td>article/Apple/5422</td>\n",
       "      <td>NaN</td>\n",
       "    </tr>\n",
       "    <tr>\n",
       "      <th>2011-09-04 16:07:28</th>\n",
       "      <td>Hydk</td>\n",
       "      <td>Apple</td>\n",
       "      <td>Re: 从三家资费对比看北京联通秋季校园竞争力</td>\n",
       "      <td>None</td>\n",
       "      <td>article/Apple/5422</td>\n",
       "      <td>TrueLies</td>\n",
       "    </tr>\n",
       "    <tr>\n",
       "      <th>2011-09-09 14:10:49</th>\n",
       "      <td>lixmin</td>\n",
       "      <td>Apple</td>\n",
       "      <td>Re: 从三家资费对比看北京联通秋季校园竞争力</td>\n",
       "      <td>None</td>\n",
       "      <td>article/Apple/5422</td>\n",
       "      <td>TrueLies</td>\n",
       "    </tr>\n",
       "    <tr>\n",
       "      <th>2008-10-23 22:48:41</th>\n",
       "      <td>safari</td>\n",
       "      <td>Apple</td>\n",
       "      <td>Leopard校内上网小白教程</td>\n",
       "      <td>None</td>\n",
       "      <td>article/Apple/4703</td>\n",
       "      <td>NaN</td>\n",
       "    </tr>\n",
       "    <tr>\n",
       "      <th>2008-10-27 15:35:03</th>\n",
       "      <td>heater</td>\n",
       "      <td>Apple</td>\n",
       "      <td>Re: Leopard校内上网小白教程</td>\n",
       "      <td>safari</td>\n",
       "      <td>article/Apple/4703</td>\n",
       "      <td>safari</td>\n",
       "    </tr>\n",
       "  </tbody>\n",
       "</table>\n",
       "</div>"
      ],
      "text/plain": [
       "                      post_id board_name_en               post_title reply_id  \\\n",
       "post_time                                                                       \n",
       "2011-09-02 09:18:26  TrueLies         Apple      从三家资费对比看北京联通秋季校园竞争力     None   \n",
       "2011-09-04 16:07:28      Hydk         Apple  Re: 从三家资费对比看北京联通秋季校园竞争力     None   \n",
       "2011-09-09 14:10:49    lixmin         Apple  Re: 从三家资费对比看北京联通秋季校园竞争力     None   \n",
       "2008-10-23 22:48:41    safari         Apple          Leopard校内上网小白教程     None   \n",
       "2008-10-27 15:35:03    heater         Apple      Re: Leopard校内上网小白教程   safari   \n",
       "\n",
       "                             thread_uid    target  \n",
       "post_time                                          \n",
       "2011-09-02 09:18:26  article/Apple/5422       NaN  \n",
       "2011-09-04 16:07:28  article/Apple/5422  TrueLies  \n",
       "2011-09-09 14:10:49  article/Apple/5422  TrueLies  \n",
       "2008-10-23 22:48:41  article/Apple/4703       NaN  \n",
       "2008-10-27 15:35:03  article/Apple/4703    safari  "
      ]
     },
     "execution_count": 111,
     "metadata": {},
     "output_type": "execute_result"
    }
   ],
   "source": [
    "df_ruc.head(5)"
   ]
  },
  {
   "cell_type": "markdown",
   "metadata": {},
   "source": [
    "<mark>可以看到 RUC 数据已经完成了 `target` 的匹配 ( `reply_id` 不为空则回复给 `reply_id`，否则则回复给 `post_id` )</mark>"
   ]
  },
  {
   "cell_type": "code",
   "execution_count": 112,
   "metadata": {},
   "outputs": [],
   "source": [
    "# 数据保存到./csv/data_ruc_raw.csv\n",
    "df_ruc.to_csv('./csv/data_ruc.csv', header=True, index=True)\n",
    "df_ruc.to_pickle('./pickle/data_ruc.pkl')\n"
   ]
  },
  {
   "cell_type": "markdown",
   "metadata": {},
   "source": [
    "## 1.3 PKU 数据处理"
   ]
  },
  {
   "cell_type": "code",
   "execution_count": 4,
   "metadata": {},
   "outputs": [],
   "source": [
    "# 保存原始数据\n",
    "df_pku = pd.read_csv('./uncleaned_data/data_pku/data_pku.csv', index_col='post_time', parse_dates=['post_time'], infer_datetime_format=True)\n",
    "df_pku.rename(columns={'thread_url':'thread_uid','reply_id':'target'},inplace=True)\n",
    "df_pku.to_csv('./csv/data_pku.csv',header=True, index=True)\n",
    "df_pku.to_pickle('./pickle/data_pku.pkl')\n"
   ]
  },
  {
   "cell_type": "markdown",
   "metadata": {
    "toc-hr-collapsed": false
   },
   "source": [
    "## 1.4 FDU 数据处理 "
   ]
  },
  {
   "cell_type": "code",
   "execution_count": 84,
   "metadata": {},
   "outputs": [],
   "source": [
    "# 保存原始数据\n",
    "df_fdu = pd.read_csv('./uncleaned_data/data_fdu/data_fdu.csv', index_col='post_time', parse_dates=['post_time'], infer_datetime_format=True)\n",
    "df_fdu.rename(columns={'reply_id':'target'},inplace=True)\n",
    "df_fdu.to_csv('./csv/data_fdu.csv',header=True, index=True)\n",
    "df_fdu.to_pickle('./pickle/data_fdu.pkl')"
   ]
  }
 ],
 "metadata": {
  "kernelspec": {
   "display_name": "Python 3",
   "language": "python",
   "name": "python3"
  },
  "language_info": {
   "codemirror_mode": {
    "name": "ipython",
    "version": 3
   },
   "file_extension": ".py",
   "mimetype": "text/x-python",
   "name": "python",
   "nbconvert_exporter": "python",
   "pygments_lexer": "ipython3",
   "version": "3.7.0"
  },
  "toc": {
   "base_numbering": 1,
   "nav_menu": {},
   "number_sections": true,
   "sideBar": true,
   "skip_h1_title": false,
   "title_cell": "Table of Contents",
   "title_sidebar": "Contents",
   "toc_cell": false,
   "toc_position": {},
   "toc_section_display": true,
   "toc_window_display": false
  },
  "toc-autonumbering": false,
  "toc-showcode": false,
  "toc-showmarkdowntxt": true,
  "toc-showtags": false,
  "varInspector": {
   "cols": {
    "lenName": 16,
    "lenType": 16,
    "lenVar": 40
   },
   "kernels_config": {
    "python": {
     "delete_cmd_postfix": "",
     "delete_cmd_prefix": "del ",
     "library": "var_list.py",
     "varRefreshCmd": "print(var_dic_list())"
    },
    "r": {
     "delete_cmd_postfix": ") ",
     "delete_cmd_prefix": "rm(",
     "library": "var_list.r",
     "varRefreshCmd": "cat(var_dic_list()) "
    }
   },
   "oldHeight": 122,
   "position": {
    "height": "144px",
    "left": "901px",
    "right": "20px",
    "top": "81px",
    "width": "350px"
   },
   "types_to_exclude": [
    "module",
    "function",
    "builtin_function_or_method",
    "instance",
    "_Feature"
   ],
   "varInspector_section_display": "block",
   "window_display": true
  }
 },
 "nbformat": 4,
 "nbformat_minor": 2
}
